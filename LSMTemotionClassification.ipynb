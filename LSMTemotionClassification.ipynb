{
  "cells": [
    {
      "cell_type": "markdown",
      "metadata": {
        "id": "view-in-github",
        "colab_type": "text"
      },
      "source": [
        "<a href=\"https://colab.research.google.com/github/LarsStorholt/EmotionClassification/blob/main/LSMTemotionClassification.ipynb\" target=\"_parent\"><img src=\"https://colab.research.google.com/assets/colab-badge.svg\" alt=\"Open In Colab\"/></a>"
      ]
    },
    {
      "cell_type": "code",
      "execution_count": null,
      "id": "0070a3e8-1785-4e04-be23-2733c53ce4c4",
      "metadata": {
        "id": "0070a3e8-1785-4e04-be23-2733c53ce4c4"
      },
      "outputs": [],
      "source": [
        "import numpy as np\n",
        "import pandas as pd\n",
        "from tensorflow.keras.models import Sequential\n",
        "from tensorflow.keras.layers import LSTM, Dense, Dropout\n",
        "from sklearn.preprocessing import StandardScaler\n",
        "from sklearn.model_selection import train_test_split\n",
        "from tensorflow.keras.utils import to_categorical\n",
        "\n",
        "# Load the data\n",
        "data = pd.read_csv('./emotions.csv')"
      ]
    },
    {
      "cell_type": "code",
      "execution_count": null,
      "id": "f91bd60a-b167-46ed-a880-b52e4adb2e67",
      "metadata": {
        "id": "f91bd60a-b167-46ed-a880-b52e4adb2e67"
      },
      "outputs": [],
      "source": [
        "features = [col for col in data.columns if 'fft' in col]\n",
        "X = data[features].values\n",
        "y = data['label'].values\n",
        "\n",
        "# Normalize the data\n",
        "scaler = StandardScaler()\n",
        "X_scaled = scaler.fit_transform(X)\n",
        "\n",
        "# Reshape data for LSTM [samples, time steps, features]\n",
        "X_reshaped = X_scaled.reshape((X_scaled.shape[0], 1, X_scaled.shape[1]))\n",
        "\n",
        "\n"
      ]
    },
    {
      "cell_type": "code",
      "execution_count": null,
      "id": "e0e1df3e-1ef1-4231-82d7-f3a691b62000",
      "metadata": {
        "id": "e0e1df3e-1ef1-4231-82d7-f3a691b62000"
      },
      "outputs": [],
      "source": [
        "# Encode labels to one hot vectors\n",
        "# 0 for 'NEGATIVE'\n",
        "# 1 for 'NEUTRAL'\n",
        "# 2 for 'POSITIVE'\n",
        "y_encoded = pd.get_dummies(y).values\n",
        "\n",
        "# Split the data into train and test sets\n",
        "X_train, X_test, y_train, y_test = train_test_split(X_reshaped, y_encoded, test_size=0.2, random_state=42)\n",
        "\n",
        "# Build the LSTM model\n",
        "model = Sequential([\n",
        "    LSTM(50, input_shape=(X_train.shape[1], X_train.shape[2])),\n",
        "    Dropout(0.2),\n",
        "    Dense(y_encoded.shape[1], activation='softmax')\n",
        "])"
      ]
    },
    {
      "cell_type": "code",
      "execution_count": null,
      "id": "39c33858-54a1-4a28-8bf0-b7252e0b5e91",
      "metadata": {
        "id": "39c33858-54a1-4a28-8bf0-b7252e0b5e91",
        "outputId": "27b4ed74-8969-4d26-a8b5-6fdb3d86c06f"
      },
      "outputs": [
        {
          "name": "stdout",
          "output_type": "stream",
          "text": [
            "Epoch 1/20\n",
            "54/54 [==============================] - 3s 16ms/step - loss: 0.3986 - accuracy: 0.8587 - val_loss: 0.2280 - val_accuracy: 0.9274\n",
            "Epoch 2/20\n",
            "54/54 [==============================] - 0s 4ms/step - loss: 0.2129 - accuracy: 0.9302 - val_loss: 0.1966 - val_accuracy: 0.9227\n",
            "Epoch 3/20\n",
            "54/54 [==============================] - 0s 4ms/step - loss: 0.1834 - accuracy: 0.9384 - val_loss: 0.1901 - val_accuracy: 0.9274\n",
            "Epoch 4/20\n",
            "54/54 [==============================] - 0s 4ms/step - loss: 0.1645 - accuracy: 0.9396 - val_loss: 0.1741 - val_accuracy: 0.9227\n",
            "Epoch 5/20\n",
            "54/54 [==============================] - 0s 4ms/step - loss: 0.1471 - accuracy: 0.9460 - val_loss: 0.1626 - val_accuracy: 0.9368\n",
            "Epoch 6/20\n",
            "54/54 [==============================] - 0s 4ms/step - loss: 0.1292 - accuracy: 0.9543 - val_loss: 0.1443 - val_accuracy: 0.9415\n",
            "Epoch 7/20\n",
            "54/54 [==============================] - 0s 4ms/step - loss: 0.1233 - accuracy: 0.9543 - val_loss: 0.1507 - val_accuracy: 0.9415\n",
            "Epoch 8/20\n",
            "54/54 [==============================] - 0s 4ms/step - loss: 0.1188 - accuracy: 0.9554 - val_loss: 0.1444 - val_accuracy: 0.9485\n",
            "Epoch 9/20\n",
            "54/54 [==============================] - 0s 5ms/step - loss: 0.1065 - accuracy: 0.9654 - val_loss: 0.1369 - val_accuracy: 0.9602\n",
            "Epoch 10/20\n",
            "54/54 [==============================] - 0s 4ms/step - loss: 0.0998 - accuracy: 0.9660 - val_loss: 0.1515 - val_accuracy: 0.9438\n",
            "Epoch 11/20\n",
            "54/54 [==============================] - 0s 4ms/step - loss: 0.0951 - accuracy: 0.9701 - val_loss: 0.1395 - val_accuracy: 0.9649\n",
            "Epoch 12/20\n",
            "54/54 [==============================] - 0s 4ms/step - loss: 0.0852 - accuracy: 0.9718 - val_loss: 0.1327 - val_accuracy: 0.9532\n",
            "Epoch 13/20\n",
            "54/54 [==============================] - 0s 4ms/step - loss: 0.0841 - accuracy: 0.9748 - val_loss: 0.1394 - val_accuracy: 0.9532\n",
            "Epoch 14/20\n",
            "54/54 [==============================] - 0s 4ms/step - loss: 0.0750 - accuracy: 0.9760 - val_loss: 0.1290 - val_accuracy: 0.9625\n",
            "Epoch 15/20\n",
            "54/54 [==============================] - 0s 4ms/step - loss: 0.0734 - accuracy: 0.9754 - val_loss: 0.1358 - val_accuracy: 0.9555\n",
            "Epoch 16/20\n",
            "54/54 [==============================] - 0s 4ms/step - loss: 0.0806 - accuracy: 0.9718 - val_loss: 0.1379 - val_accuracy: 0.9438\n",
            "Epoch 17/20\n",
            "54/54 [==============================] - 0s 4ms/step - loss: 0.0695 - accuracy: 0.9777 - val_loss: 0.1259 - val_accuracy: 0.9578\n",
            "Epoch 18/20\n",
            "54/54 [==============================] - 0s 4ms/step - loss: 0.0638 - accuracy: 0.9806 - val_loss: 0.1276 - val_accuracy: 0.9602\n",
            "Epoch 19/20\n",
            "54/54 [==============================] - 0s 4ms/step - loss: 0.0706 - accuracy: 0.9771 - val_loss: 0.1399 - val_accuracy: 0.9602\n",
            "Epoch 20/20\n",
            "54/54 [==============================] - 0s 5ms/step - loss: 0.0726 - accuracy: 0.9742 - val_loss: 0.1211 - val_accuracy: 0.9625\n",
            "14/14 [==============================] - 0s 3ms/step - loss: 0.1211 - accuracy: 0.9625\n",
            "Test accuracy: 0.9625293016433716\n"
          ]
        }
      ],
      "source": [
        "# Compile the model\n",
        "model.compile(optimizer='adam', loss='categorical_crossentropy', metrics=['accuracy'])\n",
        "\n",
        "# Train the model\n",
        "model.fit(X_train, y_train, epochs=20, batch_size=32, validation_data=(X_test, y_test))\n",
        "\n",
        "# Evaluate the model\n",
        "loss, accuracy = model.evaluate(X_test, y_test)\n",
        "print(f'Test accuracy: {accuracy}')"
      ]
    },
    {
      "cell_type": "markdown",
      "id": "3af53365-af9e-4ed2-b952-093123d576f7",
      "metadata": {
        "id": "3af53365-af9e-4ed2-b952-093123d576f7"
      },
      "source": [
        "# Confusion Matrix\n",
        " 0 for 'NEGATIVE',\n",
        " 1 for 'NEUTRAL',\n",
        " 2 for 'POSITIVE'"
      ]
    },
    {
      "cell_type": "markdown",
      "id": "60bab1ea-2878-48e8-a11f-f3b65738b9a8",
      "metadata": {
        "id": "60bab1ea-2878-48e8-a11f-f3b65738b9a8"
      },
      "source": [
        "The model was trained to classify emotions based on the EEG data, and it should learn to differentiate between 'Negative', 'Neutral', and 'Positive' emotional states based on the EEG signals' patterns."
      ]
    },
    {
      "cell_type": "code",
      "execution_count": null,
      "id": "c9c02253-d263-42c3-bc38-c4e6838487ef",
      "metadata": {
        "id": "c9c02253-d263-42c3-bc38-c4e6838487ef",
        "outputId": "22f099cc-d606-4991-e1f9-c55ae197733f"
      },
      "outputs": [
        {
          "name": "stdout",
          "output_type": "stream",
          "text": [
            "14/14 [==============================] - 1s 5ms/step\n"
          ]
        }
      ],
      "source": [
        "predicted_probabilities = model.predict(X_test)\n",
        "predicted_labels = np.argmax(predicted_probabilities, axis=1)\n",
        "true_labels = np.argmax(y_test, axis=1)"
      ]
    },
    {
      "cell_type": "code",
      "execution_count": null,
      "id": "d2622ecf-98b9-4c13-ae83-9b1830cf929c",
      "metadata": {
        "id": "d2622ecf-98b9-4c13-ae83-9b1830cf929c",
        "outputId": "e9d69acf-e2f6-4f53-d253-c3103beffe84"
      },
      "outputs": [
        {
          "data": {
            "image/png": "[encoded data removed]",
            "text/plain": [
              "<Figure size 1000x700 with 2 Axes>"
            ]
          },
          "metadata": {},
          "output_type": "display_data"
        }
      ],
      "source": [
        "from sklearn.metrics import confusion_matrix\n",
        "import seaborn as sns\n",
        "import matplotlib.pyplot as plt\n",
        "\n",
        "cm = confusion_matrix(true_labels, predicted_labels)\n",
        "\n",
        "# Define the labels for your confusion matrix\n",
        "labels = ['Negative', 'Neutral', 'Positive']\n",
        "\n",
        "# Function to apply color to annotation based on value\n",
        "def get_annotation_color(value):\n",
        "    if value > np.max(cm) / 2:\n",
        "        return \"white\"  # White text for dark cells\n",
        "    else:\n",
        "        return \"black\"  # Black text for light cells\n",
        "\n",
        "# Plot the confusion matrix\n",
        "plt.figure(figsize=(10, 7))\n",
        "ax = sns.heatmap(cm, annot=True, fmt='d', cmap='Blues', xticklabels=labels, yticklabels=labels,\n",
        "                 vmin=0)  # Ensure the color scale starts at zero\n",
        "\n",
        "# Loop over data dimensions and create text annotations with the correct color.\n",
        "for i in range(cm.shape[0]):\n",
        "    for j in range(cm.shape[1]):\n",
        "        ax.text(j+0.5, i+0.5, cm[i, j],\n",
        "                ha=\"center\", va=\"center\",\n",
        "                color=get_annotation_color(cm[i, j]))\n",
        "\n",
        "plt.xlabel('Predicted')\n",
        "plt.ylabel('True')\n",
        "plt.title('Confusion Matrix')\n",
        "plt.show()\n"
      ]
    }
  ],
  "metadata": {
    "kernelspec": {
      "display_name": "Python 3 (ipykernel)",
      "language": "python",
      "name": "python3"
    },
    "language_info": {
      "codemirror_mode": {
        "name": "ipython",
        "version": 3
      },
      "file_extension": ".py",
      "mimetype": "text/x-python",
      "name": "python",
      "nbconvert_exporter": "python",
      "pygments_lexer": "ipython3",
      "version": "3.11.4"
    },
    "colab": {
      "provenance": [],
      "include_colab_link": true
    }
  },
  "nbformat": 4,
  "nbformat_minor": 5
}